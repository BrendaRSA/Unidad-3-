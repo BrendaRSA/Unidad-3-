{
 "cells": [
  {
   "cell_type": "markdown",
   "id": "bd78353d",
   "metadata": {},
   "source": [
    "# Instituto Tecnologico de Durango\n",
    "\n",
    "## Analitica de Datos en las Organizaciones\n",
    "\n",
    "## Practica de laboratorio: estadisticas descriptivas en Python \n",
    "\n",
    "### Brenda Raquel Sanchez Alanis \n"
   ]
  },
  {
   "cell_type": "markdown",
   "id": "0bb24d49",
   "metadata": {},
   "source": [
    "Objetivos\n",
    "\n",
    "**Parte 1: Análisis de los datos**\n",
    "\n",
    "**Parte 2: Visualización de los datos**\n",
    "</p>"
   ]
  },
  {
   "cell_type": "markdown",
   "id": "c19177d9",
   "metadata": {},
   "source": [
    "**Aspectos básicos/situación**\n",
    "\n",
    "En esta práctica de laboratorio, importará un conjunto de datos en una trama de pandas y generará estadísticas descriptivas de los datos. Formateará cadenas de texto para informar las estadísticas descriptivas y generará un diagrama de los datos. Por último, experimentará con los parámetros del gráfico para familiarizarse con la diagramación de datos mediante la biblioteca matplotlib.pyplot."
   ]
  },
  {
   "cell_type": "markdown",
   "id": "61feddd8",
   "metadata": {},
   "source": [
    "**Recursos necesarios** \n",
    "\n",
    "Raspberry Pi versión 2 o superior\n",
    "\n",
    "1 computadora con acceso a Internet para la conexión con Raspberry Pi\n",
    "\n",
    "Bibliotecas de Python: pandas y matplotlib.pyplot\n",
    "    \n",
    "Archivos de datos: rpi_describe.csv"
   ]
  },
  {
   "cell_type": "markdown",
   "id": "01cf401a",
   "metadata": {},
   "source": [
    "## **Parte 1: Análisis de los datos**\n",
    "\n",
    "El objetivo de la primera parte de esta práctica de laboratorio es utilizar métodos de pandas para importar un conjunto de datos y generar las estadísticas descriptivas siguientes:\n",
    "\n",
    "1.tamaño de la muestra\n",
    "\n",
    "2.media\n",
    "\n",
    "3.mediana\n",
    "\n",
    "4.Desviación estándar\n",
    "\n",
    "5.mínima, máxima y rango de valores\n",
    "\n",
    "##### **Paso 1: Configure el entorno e importe los datos.**\n",
    "\n",
    "Primero, importará los módulos y configurará el entorno para mostrar la salida de matplotlib en la página de la computadora portátil. Usará pandas para importar los datos de un archivo csv a un marco de datos. Trabajará con un archivo que contiene ejemplos de control de calidad para cajas de 20 oz de un producto alimenticio. Los datos se utilizan para verificar la precisión de las máquinas que cargan las cajas.\n",
    "\n",
    "a) Importe los módulos y configure el entorno."
   ]
  },
  {
   "cell_type": "code",
   "execution_count": 1,
   "id": "6ebcc508",
   "metadata": {},
   "outputs": [],
   "source": [
    "import pandas as pd \n",
    "import matplotlib.pyplot as plt\n",
    "%matplotlib inline"
   ]
  },
  {
   "cell_type": "markdown",
   "id": "bb087768",
   "metadata": {},
   "source": [
    "b) Importe los datos del archivo ./Data/rpi_describe.csv mediante el método de pandas read_csv. Utilice “datos” como nombre del marco de datos."
   ]
  },
  {
   "cell_type": "code",
   "execution_count": 2,
   "id": "ba0c236c",
   "metadata": {},
   "outputs": [],
   "source": [
    "dataset = 'C:/Users/Brenda/Analítica de Datos de las Organizaciones/Data/rpi_describe.csv'\n",
    "ED = pd.read_csv(dataset)"
   ]
  },
  {
   "cell_type": "markdown",
   "id": "3e5a8b79",
   "metadata": {},
   "source": [
    "c) Verifique que el archivo se haya importado correctamente mediante el uso de los métodos de pandas head y tail para el marco de datos."
   ]
  },
  {
   "cell_type": "code",
   "execution_count": 3,
   "id": "486aa648",
   "metadata": {},
   "outputs": [
    {
     "data": {
      "text/html": [
       "<div>\n",
       "<style scoped>\n",
       "    .dataframe tbody tr th:only-of-type {\n",
       "        vertical-align: middle;\n",
       "    }\n",
       "\n",
       "    .dataframe tbody tr th {\n",
       "        vertical-align: top;\n",
       "    }\n",
       "\n",
       "    .dataframe thead th {\n",
       "        text-align: right;\n",
       "    }\n",
       "</style>\n",
       "<table border=\"1\" class=\"dataframe\">\n",
       "  <thead>\n",
       "    <tr style=\"text-align: right;\">\n",
       "      <th></th>\n",
       "      <th>weight</th>\n",
       "    </tr>\n",
       "  </thead>\n",
       "  <tbody>\n",
       "    <tr>\n",
       "      <th>0</th>\n",
       "      <td>20.440</td>\n",
       "    </tr>\n",
       "    <tr>\n",
       "      <th>1</th>\n",
       "      <td>20.244</td>\n",
       "    </tr>\n",
       "    <tr>\n",
       "      <th>2</th>\n",
       "      <td>20.549</td>\n",
       "    </tr>\n",
       "    <tr>\n",
       "      <th>3</th>\n",
       "      <td>20.755</td>\n",
       "    </tr>\n",
       "    <tr>\n",
       "      <th>4</th>\n",
       "      <td>20.740</td>\n",
       "    </tr>\n",
       "  </tbody>\n",
       "</table>\n",
       "</div>"
      ],
      "text/plain": [
       "   weight\n",
       "0  20.440\n",
       "1  20.244\n",
       "2  20.549\n",
       "3  20.755\n",
       "4  20.740"
      ]
     },
     "execution_count": 3,
     "metadata": {},
     "output_type": "execute_result"
    }
   ],
   "source": [
    "ED.head()"
   ]
  },
  {
   "cell_type": "code",
   "execution_count": 4,
   "id": "9e75eb03",
   "metadata": {},
   "outputs": [
    {
     "data": {
      "text/html": [
       "<div>\n",
       "<style scoped>\n",
       "    .dataframe tbody tr th:only-of-type {\n",
       "        vertical-align: middle;\n",
       "    }\n",
       "\n",
       "    .dataframe tbody tr th {\n",
       "        vertical-align: top;\n",
       "    }\n",
       "\n",
       "    .dataframe thead th {\n",
       "        text-align: right;\n",
       "    }\n",
       "</style>\n",
       "<table border=\"1\" class=\"dataframe\">\n",
       "  <thead>\n",
       "    <tr style=\"text-align: right;\">\n",
       "      <th></th>\n",
       "      <th>weight</th>\n",
       "    </tr>\n",
       "  </thead>\n",
       "  <tbody>\n",
       "    <tr>\n",
       "      <th>9995</th>\n",
       "      <td>20.419</td>\n",
       "    </tr>\n",
       "    <tr>\n",
       "      <th>9996</th>\n",
       "      <td>20.554</td>\n",
       "    </tr>\n",
       "    <tr>\n",
       "      <th>9997</th>\n",
       "      <td>20.768</td>\n",
       "    </tr>\n",
       "    <tr>\n",
       "      <th>9998</th>\n",
       "      <td>20.829</td>\n",
       "    </tr>\n",
       "    <tr>\n",
       "      <th>9999</th>\n",
       "      <td>20.667</td>\n",
       "    </tr>\n",
       "  </tbody>\n",
       "</table>\n",
       "</div>"
      ],
      "text/plain": [
       "      weight\n",
       "9995  20.419\n",
       "9996  20.554\n",
       "9997  20.768\n",
       "9998  20.829\n",
       "9999  20.667"
      ]
     },
     "execution_count": 4,
     "metadata": {},
     "output_type": "execute_result"
    }
   ],
   "source": [
    "ED.tail()"
   ]
  },
  {
   "cell_type": "markdown",
   "id": "9fd590a3",
   "metadata": {},
   "source": [
    "A partir de la salida del método de cola, observará que hay 10 000 filas de datos en el archivo. Si bien se trata sólo de una columna, los pandas administran este archivo de manera muy eficaz.\n",
    "\n",
    "#### **Paso 2: Utilice los pandas para visualizar la tabla de estadísticas descriptivas para el archivo.**\n",
    "\n",
    "Los pandas incluyen varios métodos eficaces para mostrar las estadísticas básicas en un conjunto de datos.\n",
    "\n",
    "a) El método dataframe.describe() muestra estadísticas del marco de datos"
   ]
  },
  {
   "cell_type": "code",
   "execution_count": 5,
   "id": "dd94be65",
   "metadata": {},
   "outputs": [
    {
     "data": {
      "text/html": [
       "<div>\n",
       "<style scoped>\n",
       "    .dataframe tbody tr th:only-of-type {\n",
       "        vertical-align: middle;\n",
       "    }\n",
       "\n",
       "    .dataframe tbody tr th {\n",
       "        vertical-align: top;\n",
       "    }\n",
       "\n",
       "    .dataframe thead th {\n",
       "        text-align: right;\n",
       "    }\n",
       "</style>\n",
       "<table border=\"1\" class=\"dataframe\">\n",
       "  <thead>\n",
       "    <tr style=\"text-align: right;\">\n",
       "      <th></th>\n",
       "      <th>weight</th>\n",
       "    </tr>\n",
       "  </thead>\n",
       "  <tbody>\n",
       "    <tr>\n",
       "      <th>count</th>\n",
       "      <td>10000.000000</td>\n",
       "    </tr>\n",
       "    <tr>\n",
       "      <th>mean</th>\n",
       "      <td>20.499212</td>\n",
       "    </tr>\n",
       "    <tr>\n",
       "      <th>std</th>\n",
       "      <td>0.199874</td>\n",
       "    </tr>\n",
       "    <tr>\n",
       "      <th>min</th>\n",
       "      <td>19.752000</td>\n",
       "    </tr>\n",
       "    <tr>\n",
       "      <th>25%</th>\n",
       "      <td>20.365000</td>\n",
       "    </tr>\n",
       "    <tr>\n",
       "      <th>50%</th>\n",
       "      <td>20.500000</td>\n",
       "    </tr>\n",
       "    <tr>\n",
       "      <th>75%</th>\n",
       "      <td>20.635000</td>\n",
       "    </tr>\n",
       "    <tr>\n",
       "      <th>max</th>\n",
       "      <td>21.171000</td>\n",
       "    </tr>\n",
       "  </tbody>\n",
       "</table>\n",
       "</div>"
      ],
      "text/plain": [
       "             weight\n",
       "count  10000.000000\n",
       "mean      20.499212\n",
       "std        0.199874\n",
       "min       19.752000\n",
       "25%       20.365000\n",
       "50%       20.500000\n",
       "75%       20.635000\n",
       "max       21.171000"
      ]
     },
     "execution_count": 5,
     "metadata": {},
     "output_type": "execute_result"
    }
   ],
   "source": [
    "ED.describe()"
   ]
  },
  {
   "cell_type": "markdown",
   "id": "bde44464",
   "metadata": {},
   "source": [
    "b) Para trabajar con los valores redondeados de los pesos en el conjunto de datos, puede agregar una nueva columna a los valores redondeados. En los pandas, se accede a las columnas por sus encabezados. Para crear una nueva columna, se utiliza el nombre de la nueva columna, entre comillas, entre corchetes como índice para el marco de datos. El método round() se utiliza para redondear los valores en la columna peso y completar una nueva columna con los valores redondeados."
   ]
  },
  {
   "cell_type": "code",
   "execution_count": 6,
   "id": "9335b8a4",
   "metadata": {},
   "outputs": [
    {
     "data": {
      "text/html": [
       "<div>\n",
       "<style scoped>\n",
       "    .dataframe tbody tr th:only-of-type {\n",
       "        vertical-align: middle;\n",
       "    }\n",
       "\n",
       "    .dataframe tbody tr th {\n",
       "        vertical-align: top;\n",
       "    }\n",
       "\n",
       "    .dataframe thead th {\n",
       "        text-align: right;\n",
       "    }\n",
       "</style>\n",
       "<table border=\"1\" class=\"dataframe\">\n",
       "  <thead>\n",
       "    <tr style=\"text-align: right;\">\n",
       "      <th></th>\n",
       "      <th>weight</th>\n",
       "      <th>rounded</th>\n",
       "    </tr>\n",
       "  </thead>\n",
       "  <tbody>\n",
       "    <tr>\n",
       "      <th>0</th>\n",
       "      <td>20.440</td>\n",
       "      <td>20.44</td>\n",
       "    </tr>\n",
       "    <tr>\n",
       "      <th>1</th>\n",
       "      <td>20.244</td>\n",
       "      <td>20.24</td>\n",
       "    </tr>\n",
       "    <tr>\n",
       "      <th>2</th>\n",
       "      <td>20.549</td>\n",
       "      <td>20.55</td>\n",
       "    </tr>\n",
       "    <tr>\n",
       "      <th>3</th>\n",
       "      <td>20.755</td>\n",
       "      <td>20.76</td>\n",
       "    </tr>\n",
       "    <tr>\n",
       "      <th>4</th>\n",
       "      <td>20.740</td>\n",
       "      <td>20.74</td>\n",
       "    </tr>\n",
       "  </tbody>\n",
       "</table>\n",
       "</div>"
      ],
      "text/plain": [
       "   weight  rounded\n",
       "0  20.440    20.44\n",
       "1  20.244    20.24\n",
       "2  20.549    20.55\n",
       "3  20.755    20.76\n",
       "4  20.740    20.74"
      ]
     },
     "execution_count": 6,
     "metadata": {},
     "output_type": "execute_result"
    }
   ],
   "source": [
    "ED['rounded'] = ED.weight.round(2)\n",
    "\n",
    "ED.head()"
   ]
  },
  {
   "cell_type": "markdown",
   "id": "e79856a7",
   "metadata": {},
   "source": [
    "c) También es posible completar una columna con valores calculados. Por ejemplo,\n",
    "\n",
    "    dataframe['c'] = dataframe['a'] - dataframe['b']\n",
    "\n",
    "creará la columna c en el marco de datos y la completará con la diferencia entre los valores numéricos en la columna a y b.\n",
    "\n",
    "Cree una nueva columna en el marco de datos llamada “diff” y complete esa columna con la cantidad de peso sobre o debajo del valor objetivo de 20 onzas. Utilice el valor redondeado para el cálculo."
   ]
  },
  {
   "cell_type": "code",
   "execution_count": 7,
   "id": "3fe4f8ce",
   "metadata": {},
   "outputs": [
    {
     "data": {
      "text/html": [
       "<div>\n",
       "<style scoped>\n",
       "    .dataframe tbody tr th:only-of-type {\n",
       "        vertical-align: middle;\n",
       "    }\n",
       "\n",
       "    .dataframe tbody tr th {\n",
       "        vertical-align: top;\n",
       "    }\n",
       "\n",
       "    .dataframe thead th {\n",
       "        text-align: right;\n",
       "    }\n",
       "</style>\n",
       "<table border=\"1\" class=\"dataframe\">\n",
       "  <thead>\n",
       "    <tr style=\"text-align: right;\">\n",
       "      <th></th>\n",
       "      <th>weight</th>\n",
       "      <th>rounded</th>\n",
       "      <th>diff</th>\n",
       "    </tr>\n",
       "  </thead>\n",
       "  <tbody>\n",
       "    <tr>\n",
       "      <th>0</th>\n",
       "      <td>20.440</td>\n",
       "      <td>20.44</td>\n",
       "      <td>0.44</td>\n",
       "    </tr>\n",
       "    <tr>\n",
       "      <th>1</th>\n",
       "      <td>20.244</td>\n",
       "      <td>20.24</td>\n",
       "      <td>0.24</td>\n",
       "    </tr>\n",
       "    <tr>\n",
       "      <th>2</th>\n",
       "      <td>20.549</td>\n",
       "      <td>20.55</td>\n",
       "      <td>0.55</td>\n",
       "    </tr>\n",
       "    <tr>\n",
       "      <th>3</th>\n",
       "      <td>20.755</td>\n",
       "      <td>20.76</td>\n",
       "      <td>0.76</td>\n",
       "    </tr>\n",
       "    <tr>\n",
       "      <th>4</th>\n",
       "      <td>20.740</td>\n",
       "      <td>20.74</td>\n",
       "      <td>0.74</td>\n",
       "    </tr>\n",
       "  </tbody>\n",
       "</table>\n",
       "</div>"
      ],
      "text/plain": [
       "   weight  rounded  diff\n",
       "0  20.440    20.44  0.44\n",
       "1  20.244    20.24  0.24\n",
       "2  20.549    20.55  0.55\n",
       "3  20.755    20.76  0.76\n",
       "4  20.740    20.74  0.74"
      ]
     },
     "execution_count": 7,
     "metadata": {},
     "output_type": "execute_result"
    }
   ],
   "source": [
    "ED['diff'] = ED['rounded'] - 20\n",
    "\n",
    "ED.head()"
   ]
  },
  {
   "cell_type": "markdown",
   "id": "72f90d6f",
   "metadata": {},
   "source": [
    "#### **Paso 3: Visualice las estadísticas descriptivas en texto**\n",
    "\n",
    "En este paso, creará variables para alojar una serie de estadísticas descriptivas y luego desarrollará cadenas para mostrar los valores. Utilizará lo siguiente:\n",
    "\n",
    "- count()\n",
    "- mean()\n",
    "- median()\n",
    "- std()\n",
    "- min()\n",
    "- max()\n",
    "\n",
    "a) Utilice los valores en la columna redondeada del marco de datos. Cree una variable para cada estadística y calcule el rango de valores mediante min() y max() para calcular el rango de valores."
   ]
  },
  {
   "cell_type": "code",
   "execution_count": 8,
   "id": "17b110ed",
   "metadata": {},
   "outputs": [],
   "source": [
    "count = ED['rounded'].count()\n",
    "mean = ED['rounded'].mean()\n",
    "median = ED['rounded'].median()\n",
    "std = ED['rounded'].std()\n",
    "rng = ED['rounded'].max() - ED['rounded'].min()"
   ]
  },
  {
   "cell_type": "markdown",
   "id": "aab3e8fc",
   "metadata": {},
   "source": [
    "b) Para desarrollar cadenas que utilicen texto y variables para informar sobre las estadísticas del conjunto de datos, utilice el método de cadena format() para facilitar la inserción de los valores de las variables en las cadenas. El formateo utiliza marcadores {} para indicar dónde deben insertarse los valores de las variables.\n",
    "\n",
    "Desarrolle oraciones como “La media de la distribución es…” para cada variable creada. En la última oración, incluya min(), max() y los valores de rango en las mismas oraciones para practicar el uso de varios marcadores. Puede combinar otras variables en la misma oración, asimismo."
   ]
  },
  {
   "cell_type": "code",
   "execution_count": 9,
   "id": "1f204706",
   "metadata": {},
   "outputs": [],
   "source": [
    "countstring = \"There are{} records in the dataframe\".format(count)\n",
    "meanstring = \"The mean is {}\".format(mean)\n",
    "stdstring =  \"The stabdard devation is {}\".format(std)\n",
    "rangestring = \"The range between the max {} and min {} is {}\".format(ED['rounded'].max(), ED['rounded'].min(), rng)\n"
   ]
  },
  {
   "cell_type": "markdown",
   "id": "a027f852",
   "metadata": {},
   "source": [
    "c) Utilice la función print para ver la salida de todas las oraciones."
   ]
  },
  {
   "cell_type": "code",
   "execution_count": 10,
   "id": "8dcde358",
   "metadata": {},
   "outputs": [
    {
     "name": "stdout",
     "output_type": "stream",
     "text": [
      "There are10000 records in the dataframe\n",
      "The mean is 20.49915999999995\n",
      "The stabdard devation is 0.19990740530822973\n",
      "The range between the max 21.17 and min 19.75 is 1.4200000000000017\n"
     ]
    }
   ],
   "source": [
    "print(countstring)\n",
    "print(meanstring)\n",
    "print(stdstring)\n",
    "print(rangestring)"
   ]
  },
  {
   "cell_type": "markdown",
   "id": "b4e1bfd2",
   "metadata": {},
   "source": [
    "Observe la salida para la desviación estándar. Puede formatear el número, de modo que sea más fácil comprender los resultados. Por ejemplo, puede cambiar la salida de la desviación estándar para mostrar sólo los primeros 2 dígitos después del punto decimal.\n",
    "\n",
    "Documento de Python para formatear las cadenas:\n",
    "\n",
    "https://docs.python.org/2/library/string.html\n",
    "\n",
    "Este enlace proporciona algunos ejemplos de formateo:\n",
    "\n",
    "https://mkaz.tech/code/python-string-format.html"
   ]
  },
  {
   "cell_type": "code",
   "execution_count": 11,
   "id": "3030dae1",
   "metadata": {},
   "outputs": [
    {
     "name": "stdout",
     "output_type": "stream",
     "text": [
      "The standard deviation of the distribution is 0.20.\n"
     ]
    }
   ],
   "source": [
    "count = ED.rounded.count()\n",
    "stdstring = 'The standard deviation of the distribution is {:.2f}.'.format(std)\n",
    "print(stdstring)"
   ]
  },
  {
   "cell_type": "markdown",
   "id": "0086724e",
   "metadata": {},
   "source": [
    "## **Parte 2: Visualización de los datos**\n",
    "En esta parte de la práctica de laboratorio, creará una distribución de frecuencia por cada valor único en el conjunto de datos.\n",
    "\n",
    "**Paso 1: Cree un marco de datos que contenga los conteos de frecuencia para el conjunto de datos.**\n",
    "\n",
    "a) Cree un nuevo marco de datos que contenga los conteos de frecuencia mediante el método value_counts(). Este método crea un objeto de serie, no un marco de datos. Utilizará to_frame() con los métodos reset_index() para crear un marco de datos de pandas a partir del objeto de serie.\n",
    "\n",
    "Utilizará la columna redondeada del marco de datos de los datos con el método value_counts(). Por ejemplo:\n",
    "\n",
    "    variable = dataframe['columnName'].value_counts()"
   ]
  },
  {
   "cell_type": "code",
   "execution_count": 12,
   "id": "1adfe670",
   "metadata": {},
   "outputs": [],
   "source": [
    "# Crea una variable llamda 'freq' para contener los valores de peso y sus frecuencias\n",
    "freq = ED['rounded'].value_counts()\n",
    "\n",
    "# Convierta el objeto freq en un marco de datos. Usa to_frame().\n",
    "freq = freq.to_frame().reset_index()"
   ]
  },
  {
   "cell_type": "markdown",
   "id": "46cb1c06",
   "metadata": {},
   "source": [
    "b) Utilice la función type() con el nombre de la variable como un argumento para verificar que freq no sea un objeto del marco de datos."
   ]
  },
  {
   "cell_type": "code",
   "execution_count": 13,
   "id": "253160f0",
   "metadata": {},
   "outputs": [
    {
     "data": {
      "text/plain": [
       "pandas.core.frame.DataFrame"
      ]
     },
     "execution_count": 13,
     "metadata": {},
     "output_type": "execute_result"
    }
   ],
   "source": [
    "type(freq)\n"
   ]
  },
  {
   "cell_type": "markdown",
   "id": "db46bd10",
   "metadata": {},
   "source": [
    "c) Utilice head para ver el nuevo marco de datos. Las columnas del marco de datos no tienen un nombre claro. Cámbieles el nombre a \"value\" y \"freq\" mediante el atributo de las columnas del marco de datos. Por ejemplo:\n",
    "\n",
    "    dataframe.columns = ['column1','column2']"
   ]
  },
  {
   "cell_type": "code",
   "execution_count": 14,
   "id": "daebbc90",
   "metadata": {},
   "outputs": [
    {
     "data": {
      "text/html": [
       "<div>\n",
       "<style scoped>\n",
       "    .dataframe tbody tr th:only-of-type {\n",
       "        vertical-align: middle;\n",
       "    }\n",
       "\n",
       "    .dataframe tbody tr th {\n",
       "        vertical-align: top;\n",
       "    }\n",
       "\n",
       "    .dataframe thead th {\n",
       "        text-align: right;\n",
       "    }\n",
       "</style>\n",
       "<table border=\"1\" class=\"dataframe\">\n",
       "  <thead>\n",
       "    <tr style=\"text-align: right;\">\n",
       "      <th></th>\n",
       "      <th>value</th>\n",
       "      <th>freq</th>\n",
       "    </tr>\n",
       "  </thead>\n",
       "  <tbody>\n",
       "    <tr>\n",
       "      <th>0</th>\n",
       "      <td>20.48</td>\n",
       "      <td>228</td>\n",
       "    </tr>\n",
       "    <tr>\n",
       "      <th>1</th>\n",
       "      <td>20.50</td>\n",
       "      <td>226</td>\n",
       "    </tr>\n",
       "    <tr>\n",
       "      <th>2</th>\n",
       "      <td>20.43</td>\n",
       "      <td>218</td>\n",
       "    </tr>\n",
       "    <tr>\n",
       "      <th>3</th>\n",
       "      <td>20.46</td>\n",
       "      <td>213</td>\n",
       "    </tr>\n",
       "    <tr>\n",
       "      <th>4</th>\n",
       "      <td>20.45</td>\n",
       "      <td>210</td>\n",
       "    </tr>\n",
       "  </tbody>\n",
       "</table>\n",
       "</div>"
      ],
      "text/plain": [
       "   value  freq\n",
       "0  20.48   228\n",
       "1  20.50   226\n",
       "2  20.43   218\n",
       "3  20.46   213\n",
       "4  20.45   210"
      ]
     },
     "execution_count": 14,
     "metadata": {},
     "output_type": "execute_result"
    }
   ],
   "source": [
    "# Renombra las columnas en el ED\n",
    "freq.columns = ['value', 'freq']\n",
    "\n",
    "# Verifica el resultado\n",
    "freq.head()"
   ]
  },
  {
   "cell_type": "markdown",
   "id": "5dd705c4",
   "metadata": {},
   "source": [
    "**Paso 2: Trace un gráfico de la distribución de frecuencia.**\n",
    "\n",
    "a) El módulo matplotlib.pyplot se importó como plt anteriormente en la práctica de laboratorio. Los métodos del módulo se utilizan para formatear y mostrar un diagrama de dispersión de los datos de frecuencia para un conjunto de datos."
   ]
  },
  {
   "cell_type": "code",
   "execution_count": 15,
   "id": "1d04e343",
   "metadata": {},
   "outputs": [
    {
     "data": {
      "text/plain": [
       "[<matplotlib.lines.Line2D at 0x2370ea94eb0>]"
      ]
     },
     "execution_count": 15,
     "metadata": {},
     "output_type": "execute_result"
    },
    {
     "data": {
      "image/png": "[encoded data removed]",
      "text/plain": [
       "<Figure size 1440x720 with 1 Axes>"
      ]
     },
     "metadata": {
      "needs_background": "light"
     },
     "output_type": "display_data"
    }
   ],
   "source": [
    "# Establecer un tamaño para el grafico \n",
    "plt.figure(figsize = (20,10))\n",
    "\n",
    "# Agregar etiquetas de eje \n",
    "plt.ylabel('Frequency')\n",
    "plt.xlabel('Weight')\n",
    "\n",
    "# Trace el grafico usando un simbolo redondo \"o\" de tamaño 10\n",
    "plt.plot(freq.value,freq.freq, \"o\", markersize = 10, color = 'g')"
   ]
  },
  {
   "cell_type": "markdown",
   "id": "11cc65d2",
   "metadata": {},
   "source": [
    "b) Experimente lo siguiente: diagrame los datos con dimensiones, marcadores, tamaños de marcadores y colores diferentes. Use los enlaces a continuación para los valores. También puede utilizar el ejemplo anterior para intentar diferentes dimensiones de figuras.\n",
    "\n",
    "marcadores http://matplotlib.org/api/markers_api.html\n",
    "\n",
    "colores http://matplotlib.org/api/colors_api.html"
   ]
  },
  {
   "cell_type": "code",
   "execution_count": 16,
   "id": "5061e94c",
   "metadata": {},
   "outputs": [
    {
     "data": {
      "text/plain": [
       "[<matplotlib.lines.Line2D at 0x2370f545640>]"
      ]
     },
     "execution_count": 16,
     "metadata": {},
     "output_type": "execute_result"
    },
    {
     "data": {
      "image/png": "[encoded data removed]",
      "text/plain": [
       "<Figure size 1440x720 with 1 Axes>"
      ]
     },
     "metadata": {
      "needs_background": "light"
     },
     "output_type": "display_data"
    }
   ],
   "source": [
    "# Establecer un tamaño para el grafico \n",
    "plt.figure(figsize = (20,10))\n",
    "\n",
    "# Agregar etiquetas de eje \n",
    "plt.ylabel('Frequency')\n",
    "plt.xlabel('Weight')\n",
    "\n",
    "# Trace el grafico usando un simbolo redondo \"o\" de tamaño 10\n",
    "plt.plot(freq.value,freq.freq, \"D\", markersize = 11, color = 'red')\n",
    "\n",
    "\n"
   ]
  },
  {
   "cell_type": "code",
   "execution_count": 17,
   "id": "701e6bb8",
   "metadata": {},
   "outputs": [
    {
     "data": {
      "text/plain": [
       "[<matplotlib.lines.Line2D at 0x2370f8674f0>]"
      ]
     },
     "execution_count": 17,
     "metadata": {},
     "output_type": "execute_result"
    },
    {
     "data": {
      "image/png": "[encoded data removed]",
      "text/plain": [
       "<Figure size 1440x720 with 1 Axes>"
      ]
     },
     "metadata": {
      "needs_background": "light"
     },
     "output_type": "display_data"
    }
   ],
   "source": [
    "# Establecer un tamaño para el grafico \n",
    "plt.figure(figsize = (20,10))\n",
    "\n",
    "# Agregar etiquetas de eje \n",
    "plt.ylabel('Frequency')\n",
    "plt.xlabel('Weight')\n",
    "\n",
    "# Trace el grafico usando un simbolo redondo \"o\" de tamaño 10\n",
    "plt.plot(freq.value,freq.freq, \"*\", markersize = 11, color = 'lightgreen')\n"
   ]
  },
  {
   "cell_type": "code",
   "execution_count": 18,
   "id": "f7c6790d",
   "metadata": {},
   "outputs": [
    {
     "data": {
      "text/plain": [
       "[<matplotlib.lines.Line2D at 0x2370f8c5b20>]"
      ]
     },
     "execution_count": 18,
     "metadata": {},
     "output_type": "execute_result"
    },
    {
     "data": {
      "image/png": "[encoded data removed]",
      "text/plain": [
       "<Figure size 1440x720 with 1 Axes>"
      ]
     },
     "metadata": {
      "needs_background": "light"
     },
     "output_type": "display_data"
    }
   ],
   "source": [
    "# Establecer un tamaño para el grafico \n",
    "plt.figure(figsize = (20,10))\n",
    "\n",
    "# Agregar etiquetas de eje \n",
    "plt.ylabel('Frequency')\n",
    "plt.xlabel('Weight')\n",
    "\n",
    "# Trace el grafico usando un simbolo redondo \"o\" de tamaño 10\n",
    "plt.plot(freq.value,freq.freq, \"p\", markersize = 11, color = 'c')\n"
   ]
  },
  {
   "cell_type": "code",
   "execution_count": null,
   "id": "7208de82",
   "metadata": {},
   "outputs": [],
   "source": []
  }
 ],
 "metadata": {
  "kernelspec": {
   "display_name": "Python 3 (ipykernel)",
   "language": "python",
   "name": "python3"
  },
  "language_info": {
   "codemirror_mode": {
    "name": "ipython",
    "version": 3
   },
   "file_extension": ".py",
   "mimetype": "text/x-python",
   "name": "python",
   "nbconvert_exporter": "python",
   "pygments_lexer": "ipython3",
   "version": "3.9.12"
  }
 },
 "nbformat": 4,
 "nbformat_minor": 5
}
